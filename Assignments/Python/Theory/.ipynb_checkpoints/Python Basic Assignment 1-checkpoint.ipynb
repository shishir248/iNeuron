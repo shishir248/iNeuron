{
 "cells": [
  {
   "cell_type": "markdown",
   "id": "4e488c33",
   "metadata": {},
   "source": [
    "**Q1. In the below elements which of them are values or an expression? eg:- values can be integer or string and expressions will be mathematical operators.**\n"
   ]
  },
  {
   "cell_type": "markdown",
   "id": "b3766d7a",
   "metadata": {},
   "source": [
    "* \\*       : Expression(Mathematical Operators)\n",
    "* \\'hello' : Value(String)\n",
    "* \\-87.8   : Value(Float)\n",
    "* \\-       : Expression(Mathematical Operators)\n",
    "* \\/       : Expression(Mathematical Operators)\n",
    "* \\+       : Expression(Mathematical Operators)\n",
    "* 6       : Value(Integer)\n"
   ]
  },
  {
   "cell_type": "markdown",
   "id": "dac07475",
   "metadata": {},
   "source": [
    "**Q2. What is the difference between string and variable?**"
   ]
  },
  {
   "cell_type": "markdown",
   "id": "0f2c13d8",
   "metadata": {},
   "source": [
    "* Variables are names for a location which holds an information/data/value.\n",
    "* Variables can be of type 'string', 'integer','float','list', etc.\n",
    "* String is a combination of alphabets or words which represents some value."
   ]
  },
  {
   "cell_type": "markdown",
   "id": "0f0e90a8",
   "metadata": {},
   "source": [
    "**Q3. Describe three different data types.**"
   ]
  },
  {
   "cell_type": "markdown",
   "id": "fed78d3e",
   "metadata": {},
   "source": [
    "* int: holds an integer data eg. 1,-1,33,10000 etc.\n",
    "* string: holds character data eg. 'ineuron','hi','hello', etc.\n",
    "* list: holds number of different data types including int, string... eg. [1,'hi',-12,1.23]"
   ]
  },
  {
   "cell_type": "markdown",
   "id": "84b976c8",
   "metadata": {},
   "source": [
    "**Q4. What is an expression made up of? What do all expressions do?**"
   ]
  },
  {
   "cell_type": "markdown",
   "id": "f187b740",
   "metadata": {},
   "source": [
    "Expression comprises of variables, constants and operations. For eg. x+y+37*(x-y)"
   ]
  },
  {
   "cell_type": "markdown",
   "id": "8088942e",
   "metadata": {},
   "source": [
    "**Q5. This assignment statements, like spam = 10. What is the difference between an expression and a statement?**"
   ]
  },
  {
   "cell_type": "markdown",
   "id": "c439e078",
   "metadata": {},
   "source": [
    "Statements are used for defining a variable. Assigning variable a value is a statement, whereas an expression is to evaluate some operations"
   ]
  },
  {
   "cell_type": "markdown",
   "id": "7e5d5cf2",
   "metadata": {},
   "source": [
    "**Q6. After running the following code, what does the variable bacon contain?**"
   ]
  },
  {
   "cell_type": "code",
   "execution_count": 4,
   "id": "87f7e74b",
   "metadata": {},
   "outputs": [
    {
     "data": {
      "text/plain": [
       "22"
      ]
     },
     "execution_count": 4,
     "metadata": {},
     "output_type": "execute_result"
    }
   ],
   "source": [
    "bacon = 22\n",
    "bacon + 1\n",
    "bacon"
   ]
  },
  {
   "cell_type": "markdown",
   "id": "882f7665",
   "metadata": {},
   "source": [
    "bacon will hold the value 22"
   ]
  },
  {
   "cell_type": "markdown",
   "id": "f669dbcb",
   "metadata": {},
   "source": [
    "**Q7. What should the values of the following two terms be?**"
   ]
  },
  {
   "cell_type": "code",
   "execution_count": 2,
   "id": "b34dfc78",
   "metadata": {},
   "outputs": [
    {
     "data": {
      "text/plain": [
       "'spamspamspam'"
      ]
     },
     "execution_count": 2,
     "metadata": {},
     "output_type": "execute_result"
    }
   ],
   "source": [
    "'spam' + 'spamspam'"
   ]
  },
  {
   "cell_type": "code",
   "execution_count": 3,
   "id": "3722696a",
   "metadata": {},
   "outputs": [
    {
     "data": {
      "text/plain": [
       "'spamspamspam'"
      ]
     },
     "execution_count": 3,
     "metadata": {},
     "output_type": "execute_result"
    }
   ],
   "source": [
    "'spam' * 3"
   ]
  },
  {
   "cell_type": "markdown",
   "id": "c1d30269",
   "metadata": {},
   "source": [
    "* 'spam' + 'spamspam' : 'spamspamspam'\n",
    "* 'spam' * 3: 'spamspamspam'"
   ]
  },
  {
   "cell_type": "markdown",
   "id": "e64b9f25",
   "metadata": {},
   "source": [
    "**Q8. Why is eggs a valid variable name while 100 is invalid?**"
   ]
  },
  {
   "cell_type": "markdown",
   "id": "955af777",
   "metadata": {},
   "source": [
    "In python, the variable name must start with a alphabet or underscore '_'"
   ]
  },
  {
   "cell_type": "markdown",
   "id": "3280fdf4",
   "metadata": {},
   "source": [
    "**Q9. What three functions can be used to get the integer, floating-point number, or string version of a value?**"
   ]
  },
  {
   "cell_type": "markdown",
   "id": "925eefa5",
   "metadata": {},
   "source": [
    "*Typecasting can be used to get the value*\n",
    "* int : int()\n",
    "* float : float()\n",
    "* string : str()"
   ]
  },
  {
   "cell_type": "markdown",
   "id": "af6458d2",
   "metadata": {},
   "source": [
    "**Q10.  Why does this expression cause an error? How can you fix it?**\n",
    "* 'I have eaten ' + 99 + ' burritos.'"
   ]
  },
  {
   "cell_type": "markdown",
   "id": "6ac02f5a",
   "metadata": {},
   "source": [
    "Python does not allow '+' concatenation between 2 different data types. `<int>` class is calling its `__add__` method which is different from `<string>` class `__add__` method. Hence, python does not know which `__add__` class to follow "
   ]
  },
  {
   "cell_type": "markdown",
   "id": "ddeb7fea",
   "metadata": {},
   "source": [
    "***To fix this: using typecasting***"
   ]
  },
  {
   "cell_type": "code",
   "execution_count": 8,
   "id": "f02de192",
   "metadata": {},
   "outputs": [
    {
     "data": {
      "text/plain": [
       "'I have eaten 99 burritos'"
      ]
     },
     "execution_count": 8,
     "metadata": {},
     "output_type": "execute_result"
    }
   ],
   "source": [
    "'I have eaten '+ str(99) +' burritos'"
   ]
  }
 ],
 "metadata": {
  "kernelspec": {
   "display_name": "Python 3",
   "language": "python",
   "name": "python3"
  },
  "language_info": {
   "codemirror_mode": {
    "name": "ipython",
    "version": 3
   },
   "file_extension": ".py",
   "mimetype": "text/x-python",
   "name": "python",
   "nbconvert_exporter": "python",
   "pygments_lexer": "ipython3",
   "version": "3.8.10"
  }
 },
 "nbformat": 4,
 "nbformat_minor": 5
}
