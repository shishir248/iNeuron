{
 "cells": [
  {
   "cell_type": "markdown",
   "id": "0e98b724",
   "metadata": {},
   "source": [
    "**Q1. In the below elements which of them are values or an expression? eg:- values can be integer or string and expressions will be mathematical operators.**\n"
   ]
  },
  {
   "cell_type": "raw",
   "id": "10b0028f",
   "metadata": {},
   "source": [
    "*       : Expression(Mathematical Operators)\n",
    "'hello' : Value(String)\n",
    "-87.8   : Value(Float)\n",
    "-       : Expression(Mathematical Operators)\n",
    "/       : Expression(Mathematical Operators)\n",
    "+       : Expression(Mathematical Operators)\n",
    "6       : Value(Integer)\n"
   ]
  },
  {
   "cell_type": "markdown",
   "id": "a9d0bbd0",
   "metadata": {},
   "source": [
    "**Q2. What is the difference between string and variable?**"
   ]
  },
  {
   "cell_type": "markdown",
   "id": "581acced",
   "metadata": {},
   "source": [
    "* Variables are names for a location which holds an information/data/value.\n",
    "* Variables can be of type 'string', 'integer','float','list', etc.\n",
    "* String is a combination of alphabets or words which represents some value."
   ]
  },
  {
   "cell_type": "markdown",
   "id": "c9fe5e3c",
   "metadata": {},
   "source": [
    "**Q3. Describe three different data types.**"
   ]
  },
  {
   "cell_type": "markdown",
   "id": "8e13b312",
   "metadata": {},
   "source": [
    "* int: holds an integer data eg. 1,-1,33,10000 etc.\n",
    "* string: holds character data eg. 'ineuron','hi','hello', etc.\n",
    "* list: holds number of different data types including int, string... eg. [1,'hi',-12,1.23]"
   ]
  },
  {
   "cell_type": "markdown",
   "id": "ed123828",
   "metadata": {},
   "source": [
    "**Q4. What is an expression made up of? What do all expressions do?**"
   ]
  },
  {
   "cell_type": "markdown",
   "id": "5a0a5661",
   "metadata": {},
   "source": [
    "Expression comprises of variables, constants and operations. For eg. x+y+37*(x-y)"
   ]
  },
  {
   "cell_type": "markdown",
   "id": "b0ee9b69",
   "metadata": {},
   "source": [
    "**Q5. This assignment statements, like spam = 10. What is the difference between an expression and a statement?**"
   ]
  },
  {
   "cell_type": "markdown",
   "id": "5093afc6",
   "metadata": {},
   "source": [
    "Statements are used for defining a variable. Assigning variable a value is a statement, whereas an expression is to evaluate some operations"
   ]
  },
  {
   "cell_type": "markdown",
   "id": "f1ef9c62",
   "metadata": {},
   "source": [
    "**Q6. After running the following code, what does the variable bacon contain?**"
   ]
  },
  {
   "cell_type": "code",
   "execution_count": 4,
   "id": "22fb212b",
   "metadata": {},
   "outputs": [
    {
     "data": {
      "text/plain": [
       "22"
      ]
     },
     "execution_count": 4,
     "metadata": {},
     "output_type": "execute_result"
    }
   ],
   "source": [
    "bacon = 22\n",
    "bacon + 1\n",
    "bacon"
   ]
  },
  {
   "cell_type": "markdown",
   "id": "90764534",
   "metadata": {},
   "source": [
    "bacon will hold the value 22"
   ]
  },
  {
   "cell_type": "markdown",
   "id": "3b0dafca",
   "metadata": {},
   "source": [
    "**Q7. What should the values of the following two terms be?**"
   ]
  },
  {
   "cell_type": "code",
   "execution_count": 2,
   "id": "749d0ec8",
   "metadata": {},
   "outputs": [
    {
     "data": {
      "text/plain": [
       "'spamspamspam'"
      ]
     },
     "execution_count": 2,
     "metadata": {},
     "output_type": "execute_result"
    }
   ],
   "source": [
    "'spam' + 'spamspam'"
   ]
  },
  {
   "cell_type": "code",
   "execution_count": 3,
   "id": "37ebb312",
   "metadata": {},
   "outputs": [
    {
     "data": {
      "text/plain": [
       "'spamspamspam'"
      ]
     },
     "execution_count": 3,
     "metadata": {},
     "output_type": "execute_result"
    }
   ],
   "source": [
    "'spam' * 3"
   ]
  },
  {
   "cell_type": "markdown",
   "id": "c8b4db21",
   "metadata": {},
   "source": [
    "* 'spam' + 'spamspam' : 'spamspamspam'\n",
    "* 'spam' * 3: 'spamspamspam'"
   ]
  },
  {
   "cell_type": "markdown",
   "id": "030cc11b",
   "metadata": {},
   "source": [
    "**Q8. Why is eggs a valid variable name while 100 is invalid?**"
   ]
  },
  {
   "cell_type": "markdown",
   "id": "1f1a8f42",
   "metadata": {},
   "source": [
    "In python, the variable name must start with a alphabet or underscore '_'"
   ]
  },
  {
   "cell_type": "markdown",
   "id": "5da8c54e",
   "metadata": {},
   "source": [
    "**Q9. What three functions can be used to get the integer, floating-point number, or string version of a value?**"
   ]
  },
  {
   "cell_type": "markdown",
   "id": "f525a03d",
   "metadata": {},
   "source": [
    "*Typecasting can be used to get the value*\n",
    "* int : int()\n",
    "* float : float()\n",
    "* string : str()"
   ]
  },
  {
   "cell_type": "markdown",
   "id": "ea0f94ec",
   "metadata": {},
   "source": [
    "**Q10.  Why does this expression cause an error? How can you fix it?**\n",
    "* 'I have eaten ' + 99 + ' burritos.'"
   ]
  },
  {
   "cell_type": "markdown",
   "id": "01cd5b96",
   "metadata": {},
   "source": [
    "Python does not allow '+' concatenation between 2 different data types. `<int>` class is calling its `__add__` method which is different from `<string>` class `__add__` method. Hence, python does not know which `__add__` class to follow "
   ]
  },
  {
   "cell_type": "markdown",
   "id": "d1efb676",
   "metadata": {},
   "source": [
    "***To fix this: using typecasting***"
   ]
  },
  {
   "cell_type": "code",
   "execution_count": 8,
   "id": "ed0ca20e",
   "metadata": {},
   "outputs": [
    {
     "data": {
      "text/plain": [
       "'I have eaten 99 burritos'"
      ]
     },
     "execution_count": 8,
     "metadata": {},
     "output_type": "execute_result"
    }
   ],
   "source": [
    "'I have eaten '+ str(99) +' burritos'"
   ]
  }
 ],
 "metadata": {
  "kernelspec": {
   "display_name": "Python 3",
   "language": "python",
   "name": "python3"
  },
  "language_info": {
   "codemirror_mode": {
    "name": "ipython",
    "version": 3
   },
   "file_extension": ".py",
   "mimetype": "text/x-python",
   "name": "python",
   "nbconvert_exporter": "python",
   "pygments_lexer": "ipython3",
   "version": "3.8.10"
  }
 },
 "nbformat": 4,
 "nbformat_minor": 5
}
