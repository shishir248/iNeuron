{
 "cells": [
  {
   "cell_type": "markdown",
   "id": "88d36c2a",
   "metadata": {},
   "source": [
    "**Q1.What are the two values of the Boolean data type? How do you write them?**"
   ]
  },
  {
   "cell_type": "markdown",
   "id": "8495764f",
   "metadata": {},
   "source": [
    "The two values of boolean data type are:\n",
    "* True = 1\n",
    "* False = 0"
   ]
  },
  {
   "cell_type": "markdown",
   "id": "b301cfe4",
   "metadata": {},
   "source": [
    "**Q2. What are the three different types of Boolean operators?**"
   ]
  },
  {
   "cell_type": "markdown",
   "id": "311dc954",
   "metadata": {},
   "source": [
    "* not\n",
    "* or\n",
    "* and"
   ]
  },
  {
   "cell_type": "markdown",
   "id": "70033c64",
   "metadata": {},
   "source": [
    "**Q3. Make a list of each Boolean operator's truth tables (i.e. every possible combination of Boolean values for the operator and what it evaluate ).**"
   ]
  },
  {
   "cell_type": "markdown",
   "id": "d64efded",
   "metadata": {},
   "source": [
    "***NOT***"
   ]
  },
  {
   "cell_type": "markdown",
   "id": "57871989",
   "metadata": {},
   "source": [
    "\n",
    "| Input | Output| \n",
    "| --- | --- | \n",
    "| True | False | \n",
    "| False | True | "
   ]
  },
  {
   "cell_type": "markdown",
   "id": "409ad618",
   "metadata": {},
   "source": [
    "***OR***"
   ]
  },
  {
   "cell_type": "markdown",
   "id": "66f9dfe2",
   "metadata": {},
   "source": [
    "| Input1 | Input2 | Output |\n",
    "| --- | --- | --- |\n",
    "| False(0) | False(0)| False(0) |\n",
    "| False(0) | True(1)| True(1) |\n",
    "| True(1) | False(0)| True(1) |\n",
    "| True(1) | True(1) | True(1) |\n"
   ]
  },
  {
   "cell_type": "markdown",
   "id": "27d6e6cf",
   "metadata": {},
   "source": [
    "***AND***"
   ]
  },
  {
   "cell_type": "markdown",
   "id": "461d54a0",
   "metadata": {},
   "source": [
    "| Input1 | Input2 | Output |\n",
    "| --- | --- | --- |\n",
    "| False(0) | False(0)| False(0) |\n",
    "| False(0) | True(1)| False(0) |\n",
    "| True(1) | False(0)| False(0) |\n",
    "| True(1) | True(1) | True(1) |\n"
   ]
  },
  {
   "cell_type": "markdown",
   "id": "76ee64e3",
   "metadata": {},
   "source": [
    "**Q4. What are the values of the following expressions?**"
   ]
  },
  {
   "cell_type": "markdown",
   "id": "38d58b64",
   "metadata": {},
   "source": [
    "* (5 > 4) and (3 == 5)                   = False\n",
    "* not (5 > 4)                            = False\n",
    "* (5 > 4) or (3 == 5)                    = True\n",
    "* not ((5 > 4) or (3 == 5))              = False \n",
    "* (True and True) and (True == False)    = False\n",
    "* (not False) or (not True)              = True  "
   ]
  },
  {
   "cell_type": "code",
   "execution_count": 17,
   "id": "ea4e30e5",
   "metadata": {},
   "outputs": [
    {
     "name": "stdout",
     "output_type": "stream",
     "text": [
      "False False True False False True\n"
     ]
    }
   ],
   "source": [
    "print((5 > 4) and (3 == 5),\n",
    "      not (5 > 4),(5 > 4) or (3 == 5),\n",
    "      not ((5 > 4) or (3 == 5)),\n",
    "      (True and True) and (True == False),\n",
    "      (not False) or (not True))"
   ]
  },
  {
   "cell_type": "markdown",
   "id": "a1936aa0",
   "metadata": {},
   "source": [
    "**Q5. What are the six comparison operators?**"
   ]
  },
  {
   "cell_type": "markdown",
   "id": "b898bf80",
   "metadata": {},
   "source": [
    "* Equal  - =  \n",
    "* Not Equal - !=\n",
    "* Greater - >\n",
    "* Smaller - <\n",
    "* Greater or Equal - >=\n",
    "* Lesser or Equal -<=\n"
   ]
  },
  {
   "cell_type": "markdown",
   "id": "862a4049",
   "metadata": {},
   "source": [
    "**Q6. How do you tell the difference between the equal to and assignment operators?Describe a condition and when you would use one.**"
   ]
  },
  {
   "cell_type": "markdown",
   "id": "a23d2ac4",
   "metadata": {},
   "source": [
    "Equal to uses double equal sign i.e. '==' and assignment operation uses single equal sign ie. '='.\n",
    "When we need to assign a value to a variable we can use assignment operator and when we want to compare two values or variables we use conditional equal statement"
   ]
  },
  {
   "cell_type": "markdown",
   "id": "390a07aa",
   "metadata": {},
   "source": [
    "**Q7. Identify the three blocks in this code:**"
   ]
  },
  {
   "cell_type": "code",
   "execution_count": 18,
   "id": "663736ca",
   "metadata": {},
   "outputs": [
    {
     "name": "stdout",
     "output_type": "stream",
     "text": [
      "ham\n",
      "spam\n",
      "spam\n"
     ]
    }
   ],
   "source": [
    "spam = 0\n",
    "#Block 1\n",
    "if spam == 10: \n",
    "    print('eggs') \n",
    "#Block 2\n",
    "if spam > 5:\n",
    "    print('bacon')\n",
    "#Block 3\n",
    "else:\n",
    "    print('ham')\n",
    "    print('spam')\n",
    "    print('spam')"
   ]
  },
  {
   "cell_type": "markdown",
   "id": "ebbcb412",
   "metadata": {},
   "source": [
    "**Q8. Write code that prints Hello if 1 is stored in spam, prints Howdy if 2 is stored in spam, and prints Greetings! if anything else is stored in spam.**"
   ]
  },
  {
   "cell_type": "code",
   "execution_count": 22,
   "id": "ffff3aec",
   "metadata": {},
   "outputs": [
    {
     "name": "stdout",
     "output_type": "stream",
     "text": [
      "Greetings!\n"
     ]
    }
   ],
   "source": [
    "spam=3\n",
    "if spam == 1:\n",
    "    print('Hello')\n",
    "elif spam==2:\n",
    "    print('Howdy')\n",
    "else:\n",
    "    print(\"Greetings!\")"
   ]
  },
  {
   "cell_type": "markdown",
   "id": "98447330",
   "metadata": {},
   "source": [
    "**Q9.If your programme is stuck in an endless loop, what keys you’ll press?**"
   ]
  },
  {
   "cell_type": "markdown",
   "id": "e813b0ab",
   "metadata": {},
   "source": [
    "Ctrl+C"
   ]
  },
  {
   "cell_type": "markdown",
   "id": "07f9677d",
   "metadata": {},
   "source": [
    "**Q10. How can you tell the difference between break and continue?**"
   ]
  },
  {
   "cell_type": "markdown",
   "id": "87723e5f",
   "metadata": {},
   "source": [
    "Break is used to stop the iterations and get out of loop. Continue is used to skip current and go to the next iteration "
   ]
  },
  {
   "cell_type": "markdown",
   "id": "956a0210",
   "metadata": {},
   "source": [
    "**Q11. In a for loop, what is the difference between range(10), range(0, 10), and range(0, 10, 1)?**"
   ]
  },
  {
   "cell_type": "markdown",
   "id": "4b467b41",
   "metadata": {},
   "source": [
    "No difference "
   ]
  },
  {
   "cell_type": "markdown",
   "id": "b3336d60",
   "metadata": {},
   "source": [
    "**Q12. Write a short program that prints the numbers 1 to 10 using a for loop. Then write an equivalent program that prints the numbers 1 to 10 using a while loop.**"
   ]
  },
  {
   "cell_type": "code",
   "execution_count": 16,
   "id": "da6a17d9",
   "metadata": {},
   "outputs": [
    {
     "name": "stdout",
     "output_type": "stream",
     "text": [
      "1\n",
      "2\n",
      "3\n",
      "4\n",
      "5\n",
      "6\n",
      "7\n",
      "8\n",
      "9\n",
      "10\n",
      "1\n",
      "2\n",
      "3\n",
      "4\n",
      "5\n",
      "6\n",
      "7\n",
      "8\n",
      "9\n",
      "10\n"
     ]
    }
   ],
   "source": [
    "#Using a for loop\n",
    "for i in range(1,11):\n",
    "    print(i)\n",
    "    \n",
    "#Using a while loop\n",
    "j=1\n",
    "while j<=10:\n",
    "    print(j)\n",
    "    j+=1"
   ]
  },
  {
   "cell_type": "markdown",
   "id": "99785a14",
   "metadata": {},
   "source": [
    "**Q13. If you had a function named bacon() inside a module named spam, how would you call it after importing spam?**"
   ]
  },
  {
   "cell_type": "markdown",
   "id": "88face83",
   "metadata": {},
   "source": [
    "import spam <br>\n",
    "spam.bacon()"
   ]
  }
 ],
 "metadata": {
  "kernelspec": {
   "display_name": "Python 3",
   "language": "python",
   "name": "python3"
  },
  "language_info": {
   "codemirror_mode": {
    "name": "ipython",
    "version": 3
   },
   "file_extension": ".py",
   "mimetype": "text/x-python",
   "name": "python",
   "nbconvert_exporter": "python",
   "pygments_lexer": "ipython3",
   "version": "3.8.10"
  }
 },
 "nbformat": 4,
 "nbformat_minor": 5
}
