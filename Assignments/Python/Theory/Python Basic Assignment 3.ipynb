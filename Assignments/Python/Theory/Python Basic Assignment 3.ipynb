{
 "cells": [
  {
   "cell_type": "markdown",
   "id": "a3ab55e2",
   "metadata": {},
   "source": [
    "**1. Why are functions advantageous to have in your programs?**"
   ]
  },
  {
   "cell_type": "markdown",
   "id": "78192bbf",
   "metadata": {},
   "source": [
    "Advantages of fns include:\n",
    " * Efficient code structure\n",
    " * Reusability\n",
    " * Easier to read"
   ]
  },
  {
   "cell_type": "markdown",
   "id": "d9924f3f",
   "metadata": {},
   "source": [
    "**2. When does the code in a function run: when it's specified or when it's called?**"
   ]
  },
  {
   "cell_type": "markdown",
   "id": "5b8248bf",
   "metadata": {},
   "source": [
    "It runs when called"
   ]
  },
  {
   "cell_type": "markdown",
   "id": "35866f24",
   "metadata": {},
   "source": [
    "**3. What statement creates a function?**"
   ]
  },
  {
   "cell_type": "markdown",
   "id": "0f0e0fed",
   "metadata": {},
   "source": [
    "'def fn_name():' creates a fn"
   ]
  },
  {
   "cell_type": "code",
   "execution_count": 2,
   "id": "59e412ec",
   "metadata": {},
   "outputs": [],
   "source": [
    "def my_fn():\n",
    "    print('Hi')"
   ]
  },
  {
   "cell_type": "markdown",
   "id": "3aded836",
   "metadata": {},
   "source": [
    "**4. What is the difference between a function and a function call?**"
   ]
  },
  {
   "cell_type": "markdown",
   "id": "d8e65773",
   "metadata": {},
   "source": [
    "Function is a bunch of code which will execute upon calling the function, it can take arguments which are passed while call."
   ]
  },
  {
   "cell_type": "markdown",
   "id": "20440f43",
   "metadata": {},
   "source": [
    "**5. How many global scopes are there in a Python program? How many local scopes?**"
   ]
  },
  {
   "cell_type": "markdown",
   "id": "0a8234d3",
   "metadata": {},
   "source": [
    "1 Global scope and 1 local scope"
   ]
  },
  {
   "cell_type": "markdown",
   "id": "33994187",
   "metadata": {},
   "source": [
    "**6. What happens to variables in a local scope when the function call returns?**"
   ]
  },
  {
   "cell_type": "markdown",
   "id": "803bffc7",
   "metadata": {},
   "source": [
    "Local scope dies as the return statement is executed"
   ]
  },
  {
   "cell_type": "markdown",
   "id": "22f26a18",
   "metadata": {},
   "source": [
    "**7. What is the concept of a return value? Is it possible to have a return value in an expression?**"
   ]
  },
  {
   "cell_type": "markdown",
   "id": "46532e66",
   "metadata": {},
   "source": [
    "Return value is the value that function returns upon execution.<br>\n",
    "Yes, it is possible to have expression as a return value"
   ]
  },
  {
   "cell_type": "code",
   "execution_count": 4,
   "id": "a89c3110",
   "metadata": {},
   "outputs": [
    {
     "data": {
      "text/plain": [
       "30"
      ]
     },
     "execution_count": 4,
     "metadata": {},
     "output_type": "execute_result"
    }
   ],
   "source": [
    "def fn(a,b):\n",
    "    return a*b+10\n",
    "fn(10,2)"
   ]
  },
  {
   "cell_type": "markdown",
   "id": "661092b8",
   "metadata": {},
   "source": [
    "**8. If a function does not have a return statement, what is the return value of a call to that function?**"
   ]
  },
  {
   "cell_type": "markdown",
   "id": "37dff99c",
   "metadata": {},
   "source": [
    "None"
   ]
  },
  {
   "cell_type": "markdown",
   "id": "76e1c4a8",
   "metadata": {},
   "source": [
    "**9. How do you make a function variable refer to the global variable?**"
   ]
  },
  {
   "cell_type": "markdown",
   "id": "c010e47b",
   "metadata": {},
   "source": [
    "By defining it as 'global'"
   ]
  },
  {
   "cell_type": "code",
   "execution_count": 13,
   "id": "558e51ed",
   "metadata": {},
   "outputs": [
    {
     "name": "stdout",
     "output_type": "stream",
     "text": [
      "10\n"
     ]
    }
   ],
   "source": [
    "def fn(a,b):\n",
    "    global c\n",
    "    c=10\n",
    "    return a+b+c\n",
    "\n",
    "fn(10,2)\n",
    "print(c)"
   ]
  },
  {
   "cell_type": "markdown",
   "id": "5d55657a",
   "metadata": {},
   "source": [
    "**10. What is the data type of None?**"
   ]
  },
  {
   "cell_type": "markdown",
   "id": "9756ed17",
   "metadata": {},
   "source": [
    "NoneType"
   ]
  },
  {
   "cell_type": "code",
   "execution_count": 14,
   "id": "b874abe2",
   "metadata": {},
   "outputs": [
    {
     "data": {
      "text/plain": [
       "NoneType"
      ]
     },
     "execution_count": 14,
     "metadata": {},
     "output_type": "execute_result"
    }
   ],
   "source": [
    "type(None)"
   ]
  },
  {
   "cell_type": "markdown",
   "id": "a06ebde9",
   "metadata": {},
   "source": [
    "**11. What does the sentence import areallyourpetsnamederic do?**"
   ]
  },
  {
   "cell_type": "markdown",
   "id": "cf78f7be",
   "metadata": {},
   "source": [
    "Import module named 'areallyourpetsnamederic '"
   ]
  },
  {
   "cell_type": "markdown",
   "id": "e01aaa8b",
   "metadata": {},
   "source": [
    "**12. If you had a bacon() feature in a spam module, what would you call it after importing spam?**"
   ]
  },
  {
   "cell_type": "markdown",
   "id": "55980b52",
   "metadata": {},
   "source": [
    "spam.bacon()"
   ]
  },
  {
   "cell_type": "markdown",
   "id": "901cae97",
   "metadata": {},
   "source": [
    "**13. What can you do to save a programme from crashing if it encounters an error?**"
   ]
  },
  {
   "cell_type": "markdown",
   "id": "93595919",
   "metadata": {},
   "source": [
    "Use exception handling (try and except)"
   ]
  },
  {
   "cell_type": "code",
   "execution_count": 16,
   "id": "358bbf26",
   "metadata": {},
   "outputs": [
    {
     "name": "stdout",
     "output_type": "stream",
     "text": [
      "Dont crash\n"
     ]
    }
   ],
   "source": [
    "try: \n",
    "    10/0\n",
    "except Exception as e:\n",
    "    print('Dont crash')"
   ]
  },
  {
   "cell_type": "markdown",
   "id": "e414c698",
   "metadata": {},
   "source": [
    "**14. What is the purpose of the try clause? What is the purpose of the except clause?**"
   ]
  },
  {
   "cell_type": "markdown",
   "id": "fa02f8f3",
   "metadata": {},
   "source": [
    "'try' clause will execute if no error and except will catch the error"
   ]
  }
 ],
 "metadata": {
  "kernelspec": {
   "display_name": "Python 3",
   "language": "python",
   "name": "python3"
  },
  "language_info": {
   "codemirror_mode": {
    "name": "ipython",
    "version": 3
   },
   "file_extension": ".py",
   "mimetype": "text/x-python",
   "name": "python",
   "nbconvert_exporter": "python",
   "pygments_lexer": "ipython3",
   "version": "3.8.10"
  }
 },
 "nbformat": 4,
 "nbformat_minor": 5
}
