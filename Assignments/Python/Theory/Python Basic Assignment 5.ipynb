{
 "cells": [
  {
   "cell_type": "markdown",
   "id": "33ac0e13",
   "metadata": {},
   "source": [
    "**1. What does an empty dictionary's code look like?**"
   ]
  },
  {
   "cell_type": "code",
   "execution_count": 1,
   "id": "73d65bbd",
   "metadata": {},
   "outputs": [
    {
     "data": {
      "text/plain": [
       "dict"
      ]
     },
     "execution_count": 1,
     "metadata": {},
     "output_type": "execute_result"
    }
   ],
   "source": [
    "a={}\n",
    "type(a)"
   ]
  },
  {
   "cell_type": "markdown",
   "id": "91afca02",
   "metadata": {},
   "source": [
    "**2. What is the value of a dictionary value with the key 'foo' and the value 42?**"
   ]
  },
  {
   "cell_type": "code",
   "execution_count": 28,
   "id": "58fce05d",
   "metadata": {},
   "outputs": [
    {
     "data": {
      "text/plain": [
       "42"
      ]
     },
     "execution_count": 28,
     "metadata": {},
     "output_type": "execute_result"
    }
   ],
   "source": [
    "d={'key':42}\n",
    "d['key']"
   ]
  },
  {
   "cell_type": "markdown",
   "id": "2f9bf65d",
   "metadata": {},
   "source": [
    "**3. What is the most significant distinction between a dictionary and a list?**"
   ]
  },
  {
   "cell_type": "markdown",
   "id": "746392d8",
   "metadata": {},
   "source": [
    "In dictionaries there is key value pair whereas list is just a dictionary where keys are int from 0 to length-1 of list"
   ]
  },
  {
   "cell_type": "markdown",
   "id": "522d87f9",
   "metadata": {},
   "source": [
    "**4. What happens if you try to access spam['foo'] if spam is {'bar': 100}?**"
   ]
  },
  {
   "cell_type": "markdown",
   "id": "3a9ecf33",
   "metadata": {},
   "source": [
    "Will give error"
   ]
  },
  {
   "cell_type": "code",
   "execution_count": 25,
   "id": "64c412f3",
   "metadata": {},
   "outputs": [
    {
     "ename": "KeyError",
     "evalue": "'foo'",
     "output_type": "error",
     "traceback": [
      "\u001b[1;31m---------------------------------------------------------------------------\u001b[0m",
      "\u001b[1;31mKeyError\u001b[0m                                  Traceback (most recent call last)",
      "\u001b[1;32m<ipython-input-25-3fa7eee1403a>\u001b[0m in \u001b[0;36m<module>\u001b[1;34m\u001b[0m\n\u001b[0;32m      1\u001b[0m \u001b[0mspam\u001b[0m\u001b[1;33m=\u001b[0m\u001b[1;33m{\u001b[0m\u001b[1;34m'bar'\u001b[0m\u001b[1;33m:\u001b[0m\u001b[1;36m100\u001b[0m\u001b[1;33m}\u001b[0m\u001b[1;33m\u001b[0m\u001b[1;33m\u001b[0m\u001b[0m\n\u001b[1;32m----> 2\u001b[1;33m \u001b[0mspam\u001b[0m\u001b[1;33m[\u001b[0m\u001b[1;34m'foo'\u001b[0m\u001b[1;33m]\u001b[0m\u001b[1;33m\u001b[0m\u001b[1;33m\u001b[0m\u001b[0m\n\u001b[0m",
      "\u001b[1;31mKeyError\u001b[0m: 'foo'"
     ]
    }
   ],
   "source": [
    "spam={'bar':100}\n",
    "spam['foo']"
   ]
  },
  {
   "cell_type": "markdown",
   "id": "75c4acf8",
   "metadata": {},
   "source": [
    "**5. If a dictionary is stored in spam, what is the difference between the expressions 'cat' in spam and 'cat' in spam.keys()?**"
   ]
  },
  {
   "cell_type": "markdown",
   "id": "a86ecf1e",
   "metadata": {},
   "source": [
    "Both are same"
   ]
  },
  {
   "cell_type": "code",
   "execution_count": 35,
   "id": "022039f5",
   "metadata": {},
   "outputs": [
    {
     "name": "stdout",
     "output_type": "stream",
     "text": [
      "Yes\n"
     ]
    }
   ],
   "source": [
    "spam1={'cat':'My cat'}\n",
    "if 'cat' in spam1 and 'cat' in spam1.keys():\n",
    "    print('Yes')"
   ]
  },
  {
   "cell_type": "markdown",
   "id": "ae5abfc3",
   "metadata": {},
   "source": [
    "**6. If a dictionary is stored in spam, what is the difference between the expressions 'cat' in spam and 'cat' in spam.values()?**"
   ]
  },
  {
   "cell_type": "markdown",
   "id": "da86db8b",
   "metadata": {},
   "source": [
    "'cat' in spam checks if 'cat' is present in keys of dictionary spam\n",
    "'cat' in spam.values() checks if 'cat' is present in values of dict spam"
   ]
  },
  {
   "cell_type": "code",
   "execution_count": 37,
   "id": "f1c9c40c",
   "metadata": {},
   "outputs": [
    {
     "name": "stdout",
     "output_type": "stream",
     "text": [
      "cat is only in keys\n"
     ]
    }
   ],
   "source": [
    "if 'cat' in spam1:\n",
    "    if 'cat' in spam1.values():\n",
    "        print('cat is in both')\n",
    "    else:\n",
    "        print('cat is only in keys')"
   ]
  },
  {
   "cell_type": "markdown",
   "id": "23d1528a",
   "metadata": {},
   "source": [
    "**7. What is a shortcut for the following code?\n",
    "<br>`\n",
    "if 'color' not in spam:\n",
    "    spam['color'] = 'black'\n",
    "`**"
   ]
  },
  {
   "cell_type": "code",
   "execution_count": 26,
   "id": "00d8cc16",
   "metadata": {},
   "outputs": [
    {
     "data": {
      "text/plain": [
       "{'bar': 100, 'color': 'black'}"
      ]
     },
     "execution_count": 26,
     "metadata": {},
     "output_type": "execute_result"
    }
   ],
   "source": [
    "spam['color']='black' if 'color' not in spam else ''\n",
    "spam"
   ]
  },
  {
   "cell_type": "markdown",
   "id": "e201261b",
   "metadata": {},
   "source": [
    "**8. How do you \"pretty print\" dictionary values using which module and function?**"
   ]
  },
  {
   "cell_type": "markdown",
   "id": "bbf819d5",
   "metadata": {},
   "source": [
    "In 'pprint' module pprint function"
   ]
  },
  {
   "cell_type": "code",
   "execution_count": 29,
   "id": "1aa44c9a",
   "metadata": {},
   "outputs": [],
   "source": [
    "import pprint"
   ]
  },
  {
   "cell_type": "code",
   "execution_count": 31,
   "id": "43914648",
   "metadata": {},
   "outputs": [
    {
     "name": "stdout",
     "output_type": "stream",
     "text": [
      "{'bar': 100, 'color': 'black'}\n"
     ]
    }
   ],
   "source": [
    "pprint.pprint(spam)"
   ]
  }
 ],
 "metadata": {
  "kernelspec": {
   "display_name": "Python 3",
   "language": "python",
   "name": "python3"
  },
  "language_info": {
   "codemirror_mode": {
    "name": "ipython",
    "version": 3
   },
   "file_extension": ".py",
   "mimetype": "text/x-python",
   "name": "python",
   "nbconvert_exporter": "python",
   "pygments_lexer": "ipython3",
   "version": "3.8.10"
  }
 },
 "nbformat": 4,
 "nbformat_minor": 5
}
